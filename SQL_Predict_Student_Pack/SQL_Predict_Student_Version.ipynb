{
 "cells": [
  {
   "cell_type": "markdown",
   "metadata": {
    "id": "kJ9OEzDBgwvw"
   },
   "source": [
    "# SQL 4 Data Science: Predict Project\n",
    "## Bhejane Online Trading Store\n",
    "\n",
    "### Student Starter Notebook\n",
    "\n",
    "© Explore Data Science Academy\n",
    "\n",
    "### Honour Code\n",
    "\n",
    "I {**YOUR NAME**, **YOUR SURNAME**}, confirm - by submitting this document - that the solutions in this notebook are a result of my own work and that I abide by the EDSA honour code (https://drive.google.com/file/d/1QDCjGZJ8-FmJE3bZdIQNwnJyQKPhHZBn/view?usp=sharing).\n",
    "\n",
    "Non-compliance with the honour code constitutes a material breach of contract."
   ]
  },
  {
   "cell_type": "markdown",
   "metadata": {
    "id": "p40FILKTgwvy"
   },
   "source": [
    "<a id='Context'></a>\n",
    "### 1. Context\n",
    "\n",
    "The Bhejane trading store is an online retailer specialising in Covid essential items. The store has recently been struggling with the management of its database-related inventory system. Luckily for them, you've been hired as a consultant to fix the problem. \n",
    "\n",
    "Its time to flex your Ninja SQL skills! \n",
    " \n",
    "**Your mission, should you choose to accept it:**\n",
    "\n",
    "You will receive a denormalised database consisting of two tables. Your task is to transform the database such that is in third normal form (3NF). To ensure that a consistent normalisation process is followed by each student, we have attached an Entity Relationship Diagram (ERD) which is a guideline on what tables need to be produced. Once you have normalised the database, you will be required to complete an MCQ test found under the 'Predict' tab of Athena.  \n",
    "\n",
    "Though the normalisation process, you will be guided into acknowledging client (Bhenjane Trading) use-cases for the database, and dealing with data anomalies in SQL. "
   ]
  },
  {
   "attachments": {},
   "cell_type": "markdown",
   "metadata": {},
   "source": [
    "![Bhejane company logo](https://raw.githubusercontent.com/Explore-AI/Pictures/master/SQL4DS/SQL_Predict/Bhejane.png)"
   ]
  },
  {
   "cell_type": "markdown",
   "metadata": {},
   "source": [
    "<div align=\"center\" >\n",
    "    Bhejane, or the Black Rhino. Image by <a href=\"https://commons.wikimedia.org/wiki/File:Black_Rhino_(Diceros_bicornis)_browsing_..._(46584052962).jpg\">Wikimedia Commons</a>\n",
    "</div>"
   ]
  },
  {
   "cell_type": "markdown",
   "metadata": {
    "id": "4hrluJ8Fgwvz"
   },
   "source": [
    "<a id='Imports'></a>\n",
    "### 2. Imports\n",
    "Please use the below command to install sql_magic, this is the package that will assist you with SQL syntax hightlighting.\n",
    "* pip install sql_magic\n",
    "\n",
    "Remember to start each new cell with \" %%read_sql \""
   ]
  },
  {
   "cell_type": "code",
   "execution_count": 1,
   "metadata": {
    "id": "v_6LpuJDgwvz"
   },
   "outputs": [
    {
     "data": {
      "application/javascript": [
       "\n",
       "    require(['notebook/js/codecell'], function(codecell) {\n",
       "      // https://github.com/jupyter/notebook/issues/2453\n",
       "      codecell.CodeCell.options_default.highlight_modes['magic_text/x-sql'] = {'reg':[/^%read_sql/, /.*=\\s*%read_sql/,\n",
       "                                                                                      /^%%read_sql/]};\n",
       "      Jupyter.notebook.events.one('kernel_ready.Kernel', function(){\n",
       "          console.log('BBBBB');\n",
       "          Jupyter.notebook.get_cells().map(function(cell){\n",
       "              if (cell.cell_type == 'code'){ cell.auto_highlight(); } }) ;\n",
       "      });\n",
       "    });\n",
       "    "
      ]
     },
     "metadata": {},
     "output_type": "display_data"
    }
   ],
   "source": [
    "# DO NOT EDIT THIS CELL\n",
    "import sqlite3\n",
    "import csv\n",
    "from sqlalchemy import create_engine\n",
    "%load_ext sql_magic\n",
    "\n",
    "# Load SQLite database\n",
    "engine  = create_engine(\"sqlite:///bhejane.db\")\n",
    "%config SQL.conn_name ='engine'"
   ]
  },
  {
   "cell_type": "markdown",
   "metadata": {
    "id": "tI8p4seXgwv3"
   },
   "source": [
    "<a id='Data_description'></a>\n",
    "### 3. Data description\n",
    "\n",
    "The original database consist of 2 tables. \n",
    "* Product Table\n",
    "* Transaction Table\n",
    "\n",
    "The `Product` table consists of the stock of all inventory that Bhejane has on hand currently, or has had on hand historically. Items which are in this table are able to be purchased, and a record of all sales (transactions) in 2020 is notorised in the `Transactions` table. To link the tables - the `barcode` can be used. Any item in the `Transactions` table, must therefore appear in the `Products` table. "
   ]
  },
  {
   "cell_type": "code",
   "execution_count": 2,
   "metadata": {
    "id": "oTb59N4Dgwv4",
    "outputId": "694a9594-2141-47a1-ad6e-f85c2571c355"
   },
   "outputs": [
    {
     "data": {
      "text/html": [
       "<div>\n",
       "<style scoped>\n",
       "    .dataframe tbody tr th:only-of-type {\n",
       "        vertical-align: middle;\n",
       "    }\n",
       "\n",
       "    .dataframe tbody tr th {\n",
       "        vertical-align: top;\n",
       "    }\n",
       "\n",
       "    .dataframe thead th {\n",
       "        text-align: right;\n",
       "    }\n",
       "</style>\n",
       "<table border=\"1\" class=\"dataframe\">\n",
       "  <thead>\n",
       "    <tr style=\"text-align: right;\">\n",
       "      <th></th>\n",
       "      <th>Table Name</th>\n",
       "      <th>Column Name</th>\n",
       "      <th>Desciption</th>\n",
       "    </tr>\n",
       "  </thead>\n",
       "  <tbody>\n",
       "    <tr>\n",
       "      <th>0</th>\n",
       "      <td>Products</td>\n",
       "      <td>Width</td>\n",
       "      <td>Width of the product once assembled</td>\n",
       "    </tr>\n",
       "    <tr>\n",
       "      <th>1</th>\n",
       "      <td>Products</td>\n",
       "      <td>Length</td>\n",
       "      <td>Length of the product once assembled</td>\n",
       "    </tr>\n",
       "    <tr>\n",
       "      <th>2</th>\n",
       "      <td>Products</td>\n",
       "      <td>Height</td>\n",
       "      <td>Height of the product once assembled</td>\n",
       "    </tr>\n",
       "    <tr>\n",
       "      <th>3</th>\n",
       "      <td>Products</td>\n",
       "      <td>Barcode</td>\n",
       "      <td>The unique product identifier</td>\n",
       "    </tr>\n",
       "    <tr>\n",
       "      <th>4</th>\n",
       "      <td>Products</td>\n",
       "      <td>Quantity</td>\n",
       "      <td>Number of goods in stock</td>\n",
       "    </tr>\n",
       "    <tr>\n",
       "      <th>5</th>\n",
       "      <td>Products</td>\n",
       "      <td>Brand</td>\n",
       "      <td>Product brand name relating to product company</td>\n",
       "    </tr>\n",
       "    <tr>\n",
       "      <th>6</th>\n",
       "      <td>Products</td>\n",
       "      <td>NavigationPath</td>\n",
       "      <td>Navigation path to specific product</td>\n",
       "    </tr>\n",
       "    <tr>\n",
       "      <th>7</th>\n",
       "      <td>Products</td>\n",
       "      <td>Colour</td>\n",
       "      <td>Name default colour for the product</td>\n",
       "    </tr>\n",
       "    <tr>\n",
       "      <th>8</th>\n",
       "      <td>Products</td>\n",
       "      <td>StockCountry</td>\n",
       "      <td>Country where the stock was bought from</td>\n",
       "    </tr>\n",
       "    <tr>\n",
       "      <th>9</th>\n",
       "      <td>Products</td>\n",
       "      <td>ProductDescription</td>\n",
       "      <td>Descriptive product name</td>\n",
       "    </tr>\n",
       "    <tr>\n",
       "      <th>10</th>\n",
       "      <td>Products</td>\n",
       "      <td>PackType</td>\n",
       "      <td>The way in which the product is packaged</td>\n",
       "    </tr>\n",
       "    <tr>\n",
       "      <th>11</th>\n",
       "      <td>Products</td>\n",
       "      <td>Volume_litre</td>\n",
       "      <td>The quantity of liquid based products</td>\n",
       "    </tr>\n",
       "    <tr>\n",
       "      <th>12</th>\n",
       "      <td>Products</td>\n",
       "      <td>Warranty</td>\n",
       "      <td>Product warranty type</td>\n",
       "    </tr>\n",
       "    <tr>\n",
       "      <th>13</th>\n",
       "      <td>Products</td>\n",
       "      <td>Weight_kg</td>\n",
       "      <td>Weight of the product</td>\n",
       "    </tr>\n",
       "    <tr>\n",
       "      <th>14</th>\n",
       "      <td>Products</td>\n",
       "      <td>ItemDescription</td>\n",
       "      <td>Description of contents of the package</td>\n",
       "    </tr>\n",
       "    <tr>\n",
       "      <th>15</th>\n",
       "      <td>Products</td>\n",
       "      <td>Price</td>\n",
       "      <td>The cost of the product in Rands</td>\n",
       "    </tr>\n",
       "    <tr>\n",
       "      <th>16</th>\n",
       "      <td>Transactions</td>\n",
       "      <td>CartID</td>\n",
       "      <td>Identifies an individual basket from a user pu...</td>\n",
       "    </tr>\n",
       "    <tr>\n",
       "      <th>17</th>\n",
       "      <td>Transactions</td>\n",
       "      <td>Barcode</td>\n",
       "      <td>Barcode for item that user purchased</td>\n",
       "    </tr>\n",
       "    <tr>\n",
       "      <th>18</th>\n",
       "      <td>Transactions</td>\n",
       "      <td>Total</td>\n",
       "      <td>Total value of a transaction</td>\n",
       "    </tr>\n",
       "    <tr>\n",
       "      <th>19</th>\n",
       "      <td>Transactions</td>\n",
       "      <td>UserName</td>\n",
       "      <td>Name of customer purchasing stock</td>\n",
       "    </tr>\n",
       "    <tr>\n",
       "      <th>20</th>\n",
       "      <td>Transactions</td>\n",
       "      <td>InvoiceDate</td>\n",
       "      <td>Date on which the product was bought</td>\n",
       "    </tr>\n",
       "  </tbody>\n",
       "</table>\n",
       "</div>"
      ],
      "text/plain": [
       "      Table Name         Column Name  \\\n",
       "0       Products               Width   \n",
       "1       Products              Length   \n",
       "2       Products              Height   \n",
       "3       Products             Barcode   \n",
       "4       Products            Quantity   \n",
       "5       Products               Brand   \n",
       "6       Products      NavigationPath   \n",
       "7       Products              Colour   \n",
       "8       Products        StockCountry   \n",
       "9       Products  ProductDescription   \n",
       "10      Products            PackType   \n",
       "11      Products        Volume_litre   \n",
       "12      Products            Warranty   \n",
       "13      Products           Weight_kg   \n",
       "14      Products     ItemDescription   \n",
       "15      Products               Price   \n",
       "16  Transactions              CartID   \n",
       "17  Transactions             Barcode   \n",
       "18  Transactions               Total   \n",
       "19  Transactions            UserName   \n",
       "20  Transactions         InvoiceDate   \n",
       "\n",
       "                                          Desciption   \n",
       "0                 Width of the product once assembled  \n",
       "1                Length of the product once assembled  \n",
       "2                Height of the product once assembled  \n",
       "3                      The unique product identifier   \n",
       "4                            Number of goods in stock  \n",
       "5      Product brand name relating to product company  \n",
       "6                 Navigation path to specific product  \n",
       "7                 Name default colour for the product  \n",
       "8             Country where the stock was bought from  \n",
       "9                            Descriptive product name  \n",
       "10           The way in which the product is packaged  \n",
       "11              The quantity of liquid based products  \n",
       "12                              Product warranty type  \n",
       "13                              Weight of the product  \n",
       "14            Description of contents of the package   \n",
       "15                   The cost of the product in Rands  \n",
       "16  Identifies an individual basket from a user pu...  \n",
       "17               Barcode for item that user purchased  \n",
       "18                      Total value of a transaction   \n",
       "19                  Name of customer purchasing stock  \n",
       "20               Date on which the product was bought  "
      ]
     },
     "execution_count": 2,
     "metadata": {},
     "output_type": "execute_result"
    }
   ],
   "source": [
    "# DO NOT EDIT THIS CELL\n",
    "import pandas as pd\n",
    "data_description = pd.read_excel('Data Description.xlsx')\n",
    "data_description"
   ]
  },
  {
   "cell_type": "markdown",
   "metadata": {
    "id": "bZd01SEagwv7"
   },
   "source": [
    "<a id='Setting_up'></a>\n",
    "### 4. Setting up the database"
   ]
  },
  {
   "cell_type": "code",
   "execution_count": 3,
   "metadata": {},
   "outputs": [],
   "source": [
    "#DO NOT EDIT THIS CELL\n",
    "conn = sqlite3.connect('bhejane.db')\n",
    "cursor = conn.cursor()"
   ]
  },
  {
   "cell_type": "markdown",
   "metadata": {
    "id": "G-WGBpmDgwv-"
   },
   "source": [
    "#### Creating both Products and Transaction Tables"
   ]
  },
  {
   "cell_type": "code",
   "execution_count": 4,
   "metadata": {
    "id": "qp-DQik7gwv-",
    "outputId": "16d1c6b9-fd74-40b1-c8a9-11807656b122"
   },
   "outputs": [
    {
     "name": "stdout",
     "output_type": "stream",
     "text": [
      "Query started at 10:32:07 AM South Africa Standard Time; Query executed in 0.00 m"
     ]
    },
    {
     "data": {
      "text/plain": [
       "<sql_magic.exceptions.EmptyResult at 0x17cbe7da910>"
      ]
     },
     "execution_count": 4,
     "metadata": {},
     "output_type": "execute_result"
    }
   ],
   "source": [
    "%%read_sql\n",
    "--DO NOT EDIT THIS CELL\n",
    "DROP TABLE IF EXISTS \"Products\";\n",
    "DROP TABLE IF EXISTS \"Transactions\";\n",
    "\n",
    "CREATE TABLE \"Products\" (\n",
    "    \"Width\"   REAL,\n",
    "    \"Length\"  REAL,\n",
    "    \"Height\"  REAL,\n",
    "    \"Barcode\" VARCHAR(150),\n",
    "    \"Quantity\" REAL,\n",
    "    \"Brand\" VARCHAR(150), \n",
    "    \"NavigationPath\" VARCHAR(150),\n",
    "    \"Colour\" VARCHAR(150),\n",
    "    \"StockCountry\" VARCHAR(150),\n",
    "    \"ProductDescription\" VARCHAR(150),\n",
    "    \"PackType\" VARCHAR(150), \n",
    "    \"Volume_litre\" REAL, \n",
    "    \"Warranty\" VARCHAR(150), \n",
    "    \"Weight_kg\" REAL,\n",
    "    \"ItemDescription\" VARCHAR(150), \n",
    "    \"Price\" REAL\n",
    ");\n",
    "\n",
    "\n",
    "CREATE TABLE \"Transactions\" (\n",
    "    \"CartID\" INTEGER,\n",
    "    \"Barcode\" VARCHAR(150), \n",
    "    \"Total\" REAL,\n",
    "    \"UserName\" VARCHAR(150), \n",
    "    \"InvoiceDate\" DATETIME\n",
    ");"
   ]
  },
  {
   "cell_type": "markdown",
   "metadata": {
    "id": "m3W5ah4PgwwG"
   },
   "source": [
    "#### Load Data into Product and Transaction tables\n",
    "\n",
    "Although we have not yet covered python in the sprint at EXPLORE - you have additional resources at your disposal, one of which happens to be a data engineering expert, and she has created a brief script for you which can be used to extract the data from the csv files, and load it into a sqlite database. \n",
    "\n",
    "This will be included in your submission, so that the end-to-end processing of the data is visible, and repeatable for any additional consultants who may be brought on board at a later stage. \n"
   ]
  },
  {
   "cell_type": "code",
   "execution_count": 5,
   "metadata": {
    "id": "VW_oEkizgwwH"
   },
   "outputs": [],
   "source": [
    "# DO NOT EDIT CELL\n",
    "#Load data into Product table\n",
    "with open('bhejane_covid_essentials_Products.csv','r') as fin: # `with` statement available in 2.5+\n",
    "    # csv.DictReader uses first line in file for column headings by default\n",
    "    dr = csv.DictReader(fin) # comma is default delimiter\n",
    "    to_db = [(i['Width'],i['Length'],i['Height'], i['Barcode'], i['Quantity'], i['Brand'], i['NavigationPath'], i['Colour'], i['StockCountry'], i['ProductDescription'],i['PackType'],i['Volume_litre'],i['Warranty'],i['Weight_kg'],i[\"ItemDescription\"],i['Price']) for i in dr]\n",
    "\n",
    "cursor.executemany(\"INSERT INTO Products VALUES (?, ?, ?, ?, ?, ?, ?, ?, ?, ?, ?, ?, ?, ?, ?, ?);\", to_db)\n",
    "conn.commit()\n",
    "\n",
    "with open('bhejane_covid_essentials_Transactions.csv','r') as fin: # `with` statement available in 2.5+\n",
    "    # csv.DictReader uses first line in file for column headings by default\n",
    "    dr = csv.DictReader(fin) # comma is default delimiter\n",
    "    to_db = [(i['CartID'],i['Barcode'], i['Total'], i['UserName'], i['InvoiceDate']) for i in dr]\n",
    "\n",
    "cursor.executemany(\"INSERT INTO Transactions VALUES (?, ?, ?, ?, ?);\", to_db)\n",
    "conn.commit()"
   ]
  },
  {
   "cell_type": "markdown",
   "metadata": {
    "id": "uo9PWlZtgwwO"
   },
   "source": [
    "<a id='ERD'></a>\n",
    "### 5. Denormalized Database Tables\n",
    "\n",
    "<br>\n",
    "\n",
    "<img src=\"https://raw.githubusercontent.com/Explore-AI/Pictures/master/SQL4DS/SQL_Predict/Denormalized_Tables.png\" alt=\"Denormalized Tables\" border=\"0\">"
   ]
  },
  {
   "cell_type": "markdown",
   "metadata": {},
   "source": [
    "#### 5.1 Explore the Denormalized Tables\n",
    "Familiarize yourself with the data given in the two tables by writing your own SQL queries to explore properties of the dataset.i.e Look for data inconsistencies, anormalies, redundancies etc to guide your normalization process. \n",
    "\n",
    "This section will not be graded - think of it as your own scratch pad.\n",
    "\n"
   ]
  },
  {
   "cell_type": "code",
   "execution_count": 6,
   "metadata": {},
   "outputs": [
    {
     "name": "stdout",
     "output_type": "stream",
     "text": [
      "Query started at 10:32:08 AM South Africa Standard Time; Query executed in 0.00 m"
     ]
    },
    {
     "data": {
      "text/html": [
       "<div>\n",
       "<style scoped>\n",
       "    .dataframe tbody tr th:only-of-type {\n",
       "        vertical-align: middle;\n",
       "    }\n",
       "\n",
       "    .dataframe tbody tr th {\n",
       "        vertical-align: top;\n",
       "    }\n",
       "\n",
       "    .dataframe thead th {\n",
       "        text-align: right;\n",
       "    }\n",
       "</style>\n",
       "<table border=\"1\" class=\"dataframe\">\n",
       "  <thead>\n",
       "    <tr style=\"text-align: right;\">\n",
       "      <th></th>\n",
       "      <th>Width</th>\n",
       "      <th>Length</th>\n",
       "      <th>Height</th>\n",
       "      <th>Barcode</th>\n",
       "      <th>Quantity</th>\n",
       "      <th>Brand</th>\n",
       "      <th>NavigationPath</th>\n",
       "      <th>Colour</th>\n",
       "      <th>StockCountry</th>\n",
       "      <th>ProductDescription</th>\n",
       "      <th>PackType</th>\n",
       "      <th>Volume_litre</th>\n",
       "      <th>Warranty</th>\n",
       "      <th>Weight_kg</th>\n",
       "      <th>ItemDescription</th>\n",
       "      <th>Price</th>\n",
       "    </tr>\n",
       "  </thead>\n",
       "  <tbody>\n",
       "    <tr>\n",
       "      <th>0</th>\n",
       "      <td></td>\n",
       "      <td></td>\n",
       "      <td></td>\n",
       "      <td>300507946</td>\n",
       "      <td>493.0</td>\n",
       "      <td>Hikvision</td>\n",
       "      <td>Computers &amp; Tablets / Smart Home &amp; Connected L...</td>\n",
       "      <td></td>\n",
       "      <td></td>\n",
       "      <td>Hikvision 1080P 2MP Turbo HD IR Bullet Camera</td>\n",
       "      <td></td>\n",
       "      <td>0.0</td>\n",
       "      <td>Limited (6 months)</td>\n",
       "      <td></td>\n",
       "      <td>1 x Hikvision 1080P Bullet camera</td>\n",
       "      <td>399.0</td>\n",
       "    </tr>\n",
       "    <tr>\n",
       "      <th>1</th>\n",
       "      <td></td>\n",
       "      <td></td>\n",
       "      <td></td>\n",
       "      <td>300507946</td>\n",
       "      <td>493.0</td>\n",
       "      <td>Hikvision</td>\n",
       "      <td>Computers &amp; Tablets / Smart Home &amp; Connected L...</td>\n",
       "      <td></td>\n",
       "      <td></td>\n",
       "      <td>Hikvision 1080P 2MP Turbo HD IR Bullet Camera</td>\n",
       "      <td></td>\n",
       "      <td>0.0</td>\n",
       "      <td>Limited (6 months)</td>\n",
       "      <td></td>\n",
       "      <td>Manual</td>\n",
       "      <td>399.0</td>\n",
       "    </tr>\n",
       "  </tbody>\n",
       "</table>\n",
       "</div>"
      ],
      "text/plain": [
       "  Width Length Height    Barcode  Quantity      Brand  \\\n",
       "0                      300507946     493.0  Hikvision   \n",
       "1                      300507946     493.0  Hikvision   \n",
       "\n",
       "                                      NavigationPath Colour StockCountry  \\\n",
       "0  Computers & Tablets / Smart Home & Connected L...                       \n",
       "1  Computers & Tablets / Smart Home & Connected L...                       \n",
       "\n",
       "                              ProductDescription PackType  Volume_litre  \\\n",
       "0  Hikvision 1080P 2MP Turbo HD IR Bullet Camera                    0.0   \n",
       "1  Hikvision 1080P 2MP Turbo HD IR Bullet Camera                    0.0   \n",
       "\n",
       "             Warranty Weight_kg                    ItemDescription  Price  \n",
       "0  Limited (6 months)            1 x Hikvision 1080P Bullet camera  399.0  \n",
       "1  Limited (6 months)                                       Manual  399.0  "
      ]
     },
     "execution_count": 6,
     "metadata": {},
     "output_type": "execute_result"
    }
   ],
   "source": [
    "%%read_sql\n",
    "-- #Use this section to explore the database by writing your own queries\n",
    "SELECT * FROM Products\n",
    "LIMIT 2;"
   ]
  },
  {
   "attachments": {},
   "cell_type": "markdown",
   "metadata": {},
   "source": [
    "### 6. Normalize the given Database tables to the 1st Normal Form (1NF)\n",
    "\n",
    "Given the below below target ERD create new tables such the the database conforms to the 1st Normal Form\n",
    "\n",
    "![1st Normal Form](https://raw.githubusercontent.com/Explore-AI/Pictures/master/SQL4DS/SQL_Predict/1stNF.png)\n",
    "\n",
    "\n",
    "It is suggested that you create all your tables before attempting to populate them with data, this will help reduce errors that might creep up due to logical dependencies."
   ]
  },
  {
   "cell_type": "markdown",
   "metadata": {},
   "source": [
    "#### 6.1 Create the tables required for the 1st Normal Form\n",
    "Use the above ERD sketch to create the required tables. Please label your tables as they appear in the ERD sketch"
   ]
  },
  {
   "cell_type": "code",
   "execution_count": 7,
   "metadata": {},
   "outputs": [
    {
     "name": "stdout",
     "output_type": "stream",
     "text": [
      "Query started at 10:32:08 AM South Africa Standard Time; Query executed in 0.00 m"
     ]
    },
    {
     "data": {
      "text/plain": [
       "<sql_magic.exceptions.EmptyResult at 0x17cbe8fc070>"
      ]
     },
     "execution_count": 7,
     "metadata": {},
     "output_type": "execute_result"
    }
   ],
   "source": [
    "%%read_sql\n",
    "--#Create tables required for 1NF\n",
    "DROP TABLE IF EXISTS \"Products_1NF\";\n",
    "DROP TABLE IF EXISTS \"Transactions_1NF\";\n",
    "\n",
    "CREATE TABLE \"Products_1NF\"(\n",
    "    \"Barcode\" VARCHAR(150),\n",
    "    \"NavigationPath\" VARCHAR(150),\n",
    "    \"ItemDescription\" VARCHAR(150),\n",
    "    \"Colour\" VARCHAR(150),\n",
    "    \"ProductDescription\" VARCHAR(150) NOT NULL,\n",
    "    \"Brand\" VARCHAR(150),\n",
    "    \"Price\" REAL NOT NULL,\n",
    "    \"Quantity\" INTEGER NOT NULL,\n",
    "    \"PackType\" VARCHAR(150),\n",
    "    \"Warranty\" VARCHAR(150),\n",
    "    \"StockCountry\" VARCHAR(150),\n",
    "    \"Weight_kg\" REAL,\n",
    "    \"Volume_litre\" REAL,\n",
    "    \"Length\" REAL,\n",
    "    \"Width\" REAL,\n",
    "    \"Height\" REAL,\n",
    "    PRIMARY KEY(\"Barcode\",\"NavigationPath\",\"ItemDescription\")\n",
    ");\n",
    "\n",
    "CREATE TABLE \"Transactions_1NF\" (\n",
    "    \"CartID\" INTEGER NOT NULL,\n",
    "    \"Barcode\" VARCHAR(150) NOT NULL,\n",
    "    \"UserName\" VARCHAR(150) NOT NULL,\n",
    "    \"InvoiceDate\" DATETIME NOT NULL,\n",
    "    \"Total\" REAL NOT NULL,\n",
    "    FOREIGN KEY (\"Barcode\") REFERENCES \"Products_1NF\" (\"Barcode\"),\n",
    "    PRIMARY KEY(\"CartID\", \"Barcode\", \"UserName\")\n",
    ");"
   ]
  },
  {
   "cell_type": "markdown",
   "metadata": {},
   "source": [
    "#### 6.2 Populate the tables you have create in the above section.\n",
    "\n",
    "Populate the tables such that the database conforms to the 1st Normal Form"
   ]
  },
  {
   "cell_type": "code",
   "execution_count": 8,
   "metadata": {},
   "outputs": [
    {
     "name": "stdout",
     "output_type": "stream",
     "text": [
      "Query started at 10:32:08 AM South Africa Standard Time; Query executed in 0.00 m"
     ]
    },
    {
     "data": {
      "text/plain": [
       "<sql_magic.exceptions.EmptyResult at 0x17cbe7dfd90>"
      ]
     },
     "execution_count": 8,
     "metadata": {},
     "output_type": "execute_result"
    }
   ],
   "source": [
    "%%read_sql\n",
    "--#Populate the 1NF tables\n",
    "DELETE FROM \"Products_1NF\";\n",
    "DELETE FROM \"Transactions_1NF\";\n",
    "\n",
    "INSERT INTO \"Products_1NF\" (\"Barcode\",\"NavigationPath\",\"ItemDescription\",\"Colour\",\"ProductDescription\",\"Brand\",\n",
    "                            \"Price\",\"Quantity\",\"PackType\",\"Warranty\",\"StockCountry\",\"Weight_kg\",\n",
    "                            \"Volume_litre\",\"Length\",\"Width\",\"Height\")\n",
    "SELECT DISTINCT\n",
    "     Barcode\n",
    "    ,NavigationPath\n",
    "    ,ItemDescription\n",
    "    ,Colour\n",
    "    ,ProductDescription\n",
    "    ,Brand\n",
    "    ,Price\n",
    "    ,Quantity\n",
    "    ,PackType\n",
    "    ,Warranty\n",
    "    ,StockCountry\n",
    "    ,Weight_kg\n",
    "    ,Volume_litre\n",
    "    ,Length\n",
    "    ,Width\n",
    "    ,Height \n",
    "FROM \n",
    "    Products;\n",
    "\n",
    "INSERT INTO \"Transactions_1NF\"(\"CartID\",\"Barcode\",\"UserName\",\"InvoiceDate\",\"Total\")\n",
    "SELECT DISTINCT \n",
    "    CartID\n",
    "    ,Barcode\n",
    "    ,UserName\n",
    "    ,InvoiceDate\n",
    "    ,Total\n",
    "FROM\n",
    "    Transactions;\n",
    "    "
   ]
  },
  {
   "attachments": {},
   "cell_type": "markdown",
   "metadata": {},
   "source": [
    "###  7. Convert the database into its 2nd Normal Form (2NF).\n",
    "\n",
    "Please label your tables as they appear in the ERD sketch.\n",
    "\n",
    "#### 7.1 Entity Relationship Diagram\n",
    "\n",
    "![2nd Normal Form](https://raw.githubusercontent.com/Explore-AI/Pictures/master/SQL4DS/SQL_Predict/2ndNF.png)\n",
    "\n",
    "#### 7.2 2NF Requirements\n",
    "To transition from 1NF to 2NF, we need all columns in all tables to not have a partial dependancy on the PK of the table. This means that any tables which have a composite key e.g. `PRIMARY KEY(\"Barcode\",\"NavigationPath\",\"ItemDescription\")` cannot have columns in the table which are dependant on only `Barcode`, `NavigationPath`, or `ItemDescription`. \n",
    "\n",
    "In moving to 2NF we will seperate out each of these as a primary key (for their own respective tables), and any columns dependant on one of these columns but not the others, will go into that table. The only columns remaining in the tables will be fully functionally dependant on the primary key of the table. For example, \n",
    "\n",
    "Thereby, we remove the partial dependancy, and will be in 2NF. We are instructed to create a unique identifier for the `Transactions_2NF`. \n",
    "\n",
    "**Second normal form notes**\n",
    "\n",
    "<br>$\\bullet$ Notice that `Total` is only dependant on `CartID` and not on `<CartID,barcode>`. This is a partial dependancy\n",
    "<br>$\\bullet$ Second normal form required no *partial functional dependancy* on the key. \n",
    "<br>$\\bullet$ This can be achieved in 2 ways: create a unique identifier per row (so that there is a simple primary key), or break the table up into only the columns which are fully dependant on the composite key. \n",
    "<br>$\\bullet$ We are going to opt for the easier solution, and create a unique simple primary key on the `Transactions_1NF`. We can create a unique primary key by concatenating `CartID||barcode`\n",
    "<br>$\\bullet$ NB - this approach does make it more challenging to get into 3NF! Which would be a good argument to opt for the latter approach. "
   ]
  },
  {
   "cell_type": "markdown",
   "metadata": {},
   "source": [
    "#### 7.3 Data Anomalies\n",
    "\n",
    "You may stumble into an error when you insert the data which violates this constraint. You query this with the data owner, and you are told that there are three transactions in the database which were errors. You are informed that *all transactions in the database correspond to products are in the database*.\n",
    "\n",
    "These entries were captured incorrectly, and must be removed. How will you deal with this? "
   ]
  },
  {
   "cell_type": "code",
   "execution_count": 9,
   "metadata": {},
   "outputs": [
    {
     "name": "stdout",
     "output_type": "stream",
     "text": [
      "Query started at 10:32:09 AM South Africa Standard Time; Query executed in 0.00 m"
     ]
    },
    {
     "data": {
      "text/html": [
       "<div>\n",
       "<style scoped>\n",
       "    .dataframe tbody tr th:only-of-type {\n",
       "        vertical-align: middle;\n",
       "    }\n",
       "\n",
       "    .dataframe tbody tr th {\n",
       "        vertical-align: top;\n",
       "    }\n",
       "\n",
       "    .dataframe thead th {\n",
       "        text-align: right;\n",
       "    }\n",
       "</style>\n",
       "<table border=\"1\" class=\"dataframe\">\n",
       "  <thead>\n",
       "    <tr style=\"text-align: right;\">\n",
       "      <th></th>\n",
       "      <th>count(distinct barcode)</th>\n",
       "    </tr>\n",
       "  </thead>\n",
       "  <tbody>\n",
       "    <tr>\n",
       "      <th>0</th>\n",
       "      <td>2</td>\n",
       "    </tr>\n",
       "  </tbody>\n",
       "</table>\n",
       "</div>"
      ],
      "text/plain": [
       "   count(distinct barcode)\n",
       "0                        2"
      ]
     },
     "execution_count": 9,
     "metadata": {},
     "output_type": "execute_result"
    }
   ],
   "source": [
    "%%read_sql\n",
    "select count(distinct barcode) from Transactions_1NF where barcode not in (select barcode from products_1NF)"
   ]
  },
  {
   "cell_type": "markdown",
   "metadata": {},
   "source": [
    "### <font color='turquoise'>Action: remove the affected entries with a `delete` query </font>"
   ]
  },
  {
   "cell_type": "code",
   "execution_count": 11,
   "metadata": {},
   "outputs": [],
   "source": [
    "%%read_sql\n",
    "delete from ..."
   ]
  },
  {
   "cell_type": "code",
   "execution_count": null,
   "metadata": {},
   "outputs": [],
   "source": [
    "%%read_sql\n",
    "-- Should show no entries!\n",
    "select count(distinct barcode) from Transactions_1NF where barcode not in (select barcode from products_1NF)"
   ]
  },
  {
   "cell_type": "markdown",
   "metadata": {},
   "source": [
    "#### 7.4 FK Requirements\n",
    "\n",
    "_Note: sqlite does not always enforce foreign key constraints (and it is even more inconsistent with magic commands to enforce FK constraints!), so it is critical that you understand the purpose of the foreign key constraint and therefore are able to enforce the FK constraint yourself!_\n",
    "\n",
    "To enforce data integrity, and to ensure that strange things cannot happen - we will have a FK constraint. A foreign key forces all values of the FK, to be limited to only the values which exist as entries in the PK column of the table for which the aforementioned table is a foreign key to. For example, we cannot sell a product (in our Transactions table) which we do not have in our Products table. \n",
    "\n",
    "You will need to work around this by removing the erroneous data from the tables before continuing, since this would violate the FK constraint between the Transactions_2NF and Products_2NF table otherwise. \n",
    "\n",
    "_Hint: Identify the observations in the Transactions_1NF table, and remove them from there._\n",
    "\n",
    "#### 7.5 Client Use-Case Requirements\n",
    "\n",
    "The data owner has advised that there were several instances of incorrect data capturing. Whenever data was partially captured, it was redone, but the partially-complete entries have not been removed from the database. \n",
    "\n",
    "For all tables which are going to be used, consider the table utility relative to the Products (Products_2NF) table. You are tasked with removing 'useless' entries as you take the data from 1NF to 2NF. For the sake of ease-of-use for the client, we will removing all rows in the 2NF tables `PackageContents_2NF` and `Colours_2NF` which have an empty value for the attributes that the client will use them for - these are the `ItemDescription` and `Colour` columns, respectively. \n",
    "\n",
    "_Hint: Make inserts into the other 2NF (`PackageContents_2NF` and `Colours_2NF`) tables using a `where` clause to remove instances of the value being an empty string, or a `null` value. This will need to be considered for the `ItemDescription` and for the `Colour` when data is inserted into the corresponding tables above (i.e. only insert data into the `PackageContents_2NF` which has a value for the `ItemDescription`, and only insert data into the `Colours_2NF` table which has a value for `Colour`_"
   ]
  },
  {
   "cell_type": "markdown",
   "metadata": {},
   "source": [
    "### <font color='turquoise'>Action: Investigate these anomalies for the tables mentioned </font>"
   ]
  },
  {
   "cell_type": "code",
   "execution_count": null,
   "metadata": {},
   "outputs": [
    {
     "name": "stdout",
     "output_type": "stream",
     "text": [
      "Query started at 02:09:34 AM SAST; Query executed in 0.00 m"
     ]
    },
    {
     "data": {
      "text/html": [
       "<div>\n",
       "<style scoped>\n",
       "    .dataframe tbody tr th:only-of-type {\n",
       "        vertical-align: middle;\n",
       "    }\n",
       "\n",
       "    .dataframe tbody tr th {\n",
       "        vertical-align: top;\n",
       "    }\n",
       "\n",
       "    .dataframe thead th {\n",
       "        text-align: right;\n",
       "    }\n",
       "</style>\n",
       "<table border=\"1\" class=\"dataframe\">\n",
       "  <thead>\n",
       "    <tr style=\"text-align: right;\">\n",
       "      <th></th>\n",
       "      <th>ItemDescription</th>\n",
       "      <th>PackType</th>\n",
       "      <th>Warranty</th>\n",
       "    </tr>\n",
       "  </thead>\n",
       "  <tbody>\n",
       "    <tr>\n",
       "      <th>0</th>\n",
       "      <td></td>\n",
       "      <td></td>\n",
       "      <td>Limited (6 months)</td>\n",
       "    </tr>\n",
       "    <tr>\n",
       "      <th>1</th>\n",
       "      <td></td>\n",
       "      <td></td>\n",
       "      <td>Non-Returnable</td>\n",
       "    </tr>\n",
       "    <tr>\n",
       "      <th>2</th>\n",
       "      <td></td>\n",
       "      <td></td>\n",
       "      <td>Limited (12 months)</td>\n",
       "    </tr>\n",
       "    <tr>\n",
       "      <th>3</th>\n",
       "      <td></td>\n",
       "      <td></td>\n",
       "      <td>Limited (120 months)</td>\n",
       "    </tr>\n",
       "    <tr>\n",
       "      <th>4</th>\n",
       "      <td></td>\n",
       "      <td></td>\n",
       "      <td>Limited (180 months)</td>\n",
       "    </tr>\n",
       "    <tr>\n",
       "      <th>5</th>\n",
       "      <td></td>\n",
       "      <td></td>\n",
       "      <td>Limited (18 months)</td>\n",
       "    </tr>\n",
       "    <tr>\n",
       "      <th>6</th>\n",
       "      <td></td>\n",
       "      <td></td>\n",
       "      <td>Supplier (12 months)</td>\n",
       "    </tr>\n",
       "    <tr>\n",
       "      <th>7</th>\n",
       "      <td></td>\n",
       "      <td>Single</td>\n",
       "      <td>Limited (6 months)</td>\n",
       "    </tr>\n",
       "    <tr>\n",
       "      <th>8</th>\n",
       "      <td></td>\n",
       "      <td></td>\n",
       "      <td>Limited (24 months)</td>\n",
       "    </tr>\n",
       "    <tr>\n",
       "      <th>9</th>\n",
       "      <td></td>\n",
       "      <td></td>\n",
       "      <td></td>\n",
       "    </tr>\n",
       "    <tr>\n",
       "      <th>10</th>\n",
       "      <td></td>\n",
       "      <td></td>\n",
       "      <td>Limited (36 months)</td>\n",
       "    </tr>\n",
       "    <tr>\n",
       "      <th>11</th>\n",
       "      <td></td>\n",
       "      <td></td>\n",
       "      <td>Full (6 months)</td>\n",
       "    </tr>\n",
       "  </tbody>\n",
       "</table>\n",
       "</div>"
      ],
      "text/plain": [
       "   ItemDescription PackType              Warranty\n",
       "0                              Limited (6 months)\n",
       "1                                  Non-Returnable\n",
       "2                             Limited (12 months)\n",
       "3                            Limited (120 months)\n",
       "4                            Limited (180 months)\n",
       "5                             Limited (18 months)\n",
       "6                            Supplier (12 months)\n",
       "7                    Single    Limited (6 months)\n",
       "8                             Limited (24 months)\n",
       "9                                                \n",
       "10                            Limited (36 months)\n",
       "11                                Full (6 months)"
      ]
     },
     "execution_count": 63,
     "metadata": {},
     "output_type": "execute_result"
    }
   ],
   "source": [
    "%%read_sql \n",
    "\n",
    "SELECT DISTINCT \n",
    "    ItemDescription,\n",
    "    PackType,\n",
    "    Warranty \n",
    "FROM\n",
    "    Products\n",
    "WHERE ItemDescription = '';"
   ]
  },
  {
   "cell_type": "markdown",
   "metadata": {},
   "source": [
    "### Let's do it! Construct the database above in second normal form"
   ]
  },
  {
   "cell_type": "code",
   "execution_count": null,
   "metadata": {},
   "outputs": [
    {
     "name": "stdout",
     "output_type": "stream",
     "text": [
      "Query started at 01:33:26 AM SAST; Query executed in 0.00 m"
     ]
    },
    {
     "data": {
      "text/plain": [
       "<sql_magic.exceptions.EmptyResult at 0x7fc1b04df310>"
      ]
     },
     "execution_count": 12,
     "metadata": {},
     "output_type": "execute_result"
    }
   ],
   "source": [
    "%%read_sql\n",
    "--#Create tables required for 2NF\n",
    "\n",
    "DROP TABLE IF EXISTS \"Products_2NF\";\n",
    "DROP TABLE IF EXISTS \"Transactions_2NF\";\n",
    "DROP TABLE IF EXISTS \"Navigation_2NF\";\n",
    "DROP TABLE IF EXISTS \"PackageContents_2NF\";\n",
    "DROP TABLE IF EXISTS \"Colours_2NF\";\n",
    "\n",
    "CREATE TABLE Products_2NF(\n",
    "    \"RegistryID\" INTEGER NOT NULL,\n",
    "    \"Barcode\" VARCHAR(150) NOT NULL,\n",
    "    \"ProductDescription\" VARCHAR(150) NOT NULL,\n",
    "    \"Brand\" VARCHAR(150),\n",
    "    \"Price\" REAL NOT NULL,\n",
    "    \"Quantity\" INTEGER NOT NULL,\n",
    "    \"StockCountry\" VARCHAR(150),\n",
    "    \"Weight_kg\" REAL,\n",
    "    \"Volume_litre\" REAL,\n",
    "    \"Length\" REAL,\n",
    "    \"Width\" REAL,\n",
    "    \"Height\" REAL,\n",
    "    \"PathID\" INTEGER,\n",
    "    \"ItemID\" INTEGER,\n",
    "    \"ColourID\" INTEGER,\n",
    "    PRIMARY KEY(RegistryID AUTOINCREMENT),\n",
    "    CONSTRAINT fk_nav FOREIGN KEY('PathID') REFERENCES Navigation_2NF ('PathID'),\n",
    "    CONSTRAINT fk_pack FOREIGN KEY('ItemID') REFERENCES PackageContents_2NF ('ItemID'),\n",
    "    CONSTRAINT fk_col FOREIGN KEY('ColourID') REFERENCES Colours_2NF ('ColourID') \n",
    ");\n",
    "\n",
    "CREATE TABLE \"Transactions_2NF\" (\n",
    "    \"CartID||Barcode||UserName\" VARCHAR(150) NOT NULL,\n",
    "    \"CartID\" INTEGER NOT NULL,\n",
    "    \"Barcode\" VARCHAR(150) NOT NULL,\n",
    "    \"UserName\" VARCHAR(150) NOT NULL,\n",
    "    \"InvoiceDate\" DATETIME NOT NULL,\n",
    "    \"Total\" REAL NOT NULL,\n",
    "    PRIMARY KEY(\"CartID||Barcode||UserName\")\n",
    "    CONSTRAINT fk_trans FOREIGN KEY('Barcode') REFERENCES Products_2NF ('Barcode')\n",
    ");\n",
    "\n",
    "\n",
    "CREATE TABLE \"Navigation_2NF\"(\n",
    "    \"PathID\" INTEGER NOT NULL,\n",
    "    \"NavigationPath\" VARCHAR(150),\n",
    "    PRIMARY KEY(\"PathID\" AUTOINCREMENT)\n",
    ");\n",
    "\n",
    "CREATE TABLE \"Colours_2NF\"(\n",
    "    \"ColourID\" INTEGER NOT NULL,\n",
    "    \"Colour\" VARCHAR(150),\n",
    "    PRIMARY KEY(\"ColourID\" AUTOINCREMENT)\n",
    ");\n",
    "\n",
    "CREATE TABLE \"PackageContents_2NF\"(\n",
    "    \"ItemID\" INTEGER NOT NULL,\n",
    "    \"ItemDescription\" VARCHAR(150),\n",
    "    \"PackType\" VARCHAR(150),\n",
    "    \"Warranty\" VARCHAR(150),\n",
    "    PRIMARY KEY(\"ItemID\" AUTOINCREMENT)\n",
    ");\n"
   ]
  },
  {
   "cell_type": "markdown",
   "metadata": {},
   "source": [
    "### Let's do it! _Populate_ the database above in second normal form\n",
    "\n",
    "Firstly, let's consider the entries which are `null` and `= ''`. And we will only insert the relevant entries. "
   ]
  },
  {
   "cell_type": "code",
   "execution_count": null,
   "metadata": {},
   "outputs": [
    {
     "name": "stdout",
     "output_type": "stream",
     "text": [
      "Query started at 01:33:27 AM SAST; Query executed in 0.00 m"
     ]
    },
    {
     "data": {
      "text/plain": [
       "<sql_magic.exceptions.EmptyResult at 0x7fc1b04dfac0>"
      ]
     },
     "execution_count": 13,
     "metadata": {},
     "output_type": "execute_result"
    }
   ],
   "source": [
    "%%read_sql\n",
    "-- #Populate the tables so that they conform to 2NF\n",
    "\n",
    "DELETE FROM \"Products_2NF\";\n",
    "DELETE FROM \"Transactions_2NF\";\n",
    "DELETE FROM \"Navigation_2NF\";\n",
    "DELETE FROM \"PackageContents_2NF\";\n",
    "DELETE FROM \"Colours_2NF\";\n",
    "\n",
    "\n",
    "INSERT INTO \"Navigation_2NF\"(\"NavigationPath\")\n",
    "SELECT DISTINCT \n",
    "    NavigationPath \n",
    "FROM\n",
    "    Products_1NF;\n",
    "    \n",
    "INSERT INTO \"PackageContents_2NF\"(\"ItemDescription\",\"PackType\",\"Warranty\")\n",
    "SELECT DISTINCT \n",
    "    ItemDescription,\n",
    "    PackType,\n",
    "    Warranty \n",
    "FROM\n",
    "    Products_1NF\n",
    "WHERE ItemDescription <> ''\n",
    "        ;\n",
    "    \n",
    "INSERT INTO \"Colours_2NF\"(\"Colour\")\n",
    "SELECT DISTINCT \n",
    "    Colour\n",
    "FROM\n",
    "    Products_1NF\n",
    "WHERE Colour <> ''\n",
    "        ;"
   ]
  },
  {
   "cell_type": "markdown",
   "metadata": {},
   "source": [
    "A more complicated scenario below as we insert into `Products_2NF`. We will insert from the Products_1NF table. We can use LEFT JOIN, because the data in each of these tables that `Products_1NF` has a FK to, originally came from `Products_1NF`, so we are gauranteed to get matches back. Normally however, what you would get from the FK restriction is the requirement to use _parent-table_ `LEFT JOIN` _child-table_. "
   ]
  },
  {
   "cell_type": "code",
   "execution_count": null,
   "metadata": {},
   "outputs": [
    {
     "name": "stdout",
     "output_type": "stream",
     "text": [
      "Query started at 01:33:29 AM SAST; Query executed in 0.00 m"
     ]
    },
    {
     "data": {
      "text/plain": [
       "<sql_magic.exceptions.EmptyResult at 0x7fc1a154ce50>"
      ]
     },
     "execution_count": 14,
     "metadata": {},
     "output_type": "execute_result"
    }
   ],
   "source": [
    "%%read_sql \n",
    "\n",
    "INSERT INTO \"Products_2NF\" (\"PathID\",\"ItemID\",\"ColourID\",\"Barcode\",\"ProductDescription\",\"Brand\",\"Price\",\n",
    "                            \"Quantity\",\"StockCountry\",\"Weight_kg\",\"Volume_litre\",\n",
    "                            \"Length\",\"Width\",\"Height\")\n",
    "SELECT\n",
    "    PathID,\n",
    "    ItemID,\n",
    "    ColourID,\n",
    "    Products_1NF.Barcode,\n",
    "    ProductDescription,\n",
    "    Brand,\n",
    "    Price,\n",
    "    Quantity,\n",
    "    StockCountry,\n",
    "    Weight_kg, \n",
    "    Volume_litre, \n",
    "    Length,\n",
    "    Width,\n",
    "    Height \n",
    "FROM \n",
    "    Products_1NF\n",
    "LEFT JOIN Navigation_2NF ON Products_1NF.NavigationPath = Navigation_2NF.NavigationPath \n",
    "LEFT JOIN PackageContents_2NF ON Products_1NF.ItemDescription = PackageContents_2NF.ItemDescription\n",
    "LEFT JOIN Colours_2NF ON Products_1NF.Colour = Colours_2NF.Colour"
   ]
  },
  {
   "cell_type": "markdown",
   "metadata": {},
   "source": [
    "Last but not least, we insert into the `Transactions_2NF`table. Recall that we created a new PK in this table, and pay attention to how we are inserting values into the table. "
   ]
  },
  {
   "cell_type": "code",
   "execution_count": null,
   "metadata": {},
   "outputs": [
    {
     "name": "stdout",
     "output_type": "stream",
     "text": [
      "Query started at 01:33:45 AM SAST; Query executed in 0.00 m"
     ]
    },
    {
     "data": {
      "text/plain": [
       "<sql_magic.exceptions.EmptyResult at 0x7fc1a154cc10>"
      ]
     },
     "execution_count": 17,
     "metadata": {},
     "output_type": "execute_result"
    }
   ],
   "source": [
    "%%read_sql \n",
    "\n",
    "INSERT INTO \"Transactions_2NF\"(\"CartID||Barcode||UserName\",\"CartID\",\"Barcode\",\"UserName\",\"InvoiceDate\",\"Total\")\n",
    "SELECT DISTINCT \n",
    "    CartID||Transactions_1NF.Barcode||UserName\n",
    "    ,CartID\n",
    "    ,Transactions_1NF.Barcode\n",
    "    ,UserName\n",
    "    ,InvoiceDate\n",
    "    ,Total\n",
    "FROM\n",
    "    Transactions_1NF\n",
    "LEFT JOIN Products_2NF ON Transactions_1NF.Barcode = Products_2NF.Barcode ;\n"
   ]
  },
  {
   "attachments": {},
   "cell_type": "markdown",
   "metadata": {},
   "source": [
    "<a id='Target_ERD'></a>\n",
    "### 8. Convert the table into its 3rd Normal Form (3NF)\n",
    "\n",
    "Please label your tables as they appear in the ERD sketch. In the same fashion as done in 2NF, note which tables need to have data inserted `where column <> '' and column is not null`.\n",
    "\n",
    "<br>\n",
    "\n",
    "![3rd Normal Form](https://raw.githubusercontent.com/Explore-AI/Pictures/master/SQL4DS/SQL_Predict/3rdNF.png)"
   ]
  },
  {
   "cell_type": "code",
   "execution_count": null,
   "metadata": {
    "id": "nSceV8iQgwwP",
    "outputId": "8f243bda-2032-4c7b-9c58-e6110cdb9505"
   },
   "outputs": [
    {
     "name": "stdout",
     "output_type": "stream",
     "text": [
      "Query started at 01:33:56 AM SAST; Query executed in 0.00 m"
     ]
    },
    {
     "data": {
      "text/plain": [
       "<sql_magic.exceptions.EmptyResult at 0x7fc1b0b93fd0>"
      ]
     },
     "execution_count": 18,
     "metadata": {},
     "output_type": "execute_result"
    }
   ],
   "source": [
    "%%read_sql\n",
    "\n",
    "--#Create tables required for 2NF\n",
    "DROP TABLE IF EXISTS \"Transactions_3NF\";\n",
    "DROP TABLE IF EXISTS \"Carts_3NF\";\n",
    "DROP TABLE IF EXISTS \"Products_3NF\";\n",
    "DROP TABLE IF EXISTS \"Users_3NF\";\n",
    "DROP TABLE IF EXISTS \"Navigation_3NF\";\n",
    "DROP TABLE IF EXISTS \"PackageContents_3NF\";\n",
    "DROP TABLE IF EXISTS \"Colours_3NF\";\n",
    "DROP TABLE IF EXISTS \"Brands_3NF\";\n",
    "DROP TABLE IF EXISTS \"Locations_3NF\";\n",
    "\n",
    "CREATE TABLE \"Products_3NF\" (\n",
    "    \"RegistryID\" INTEGER NOT NULL,\n",
    "    \"Barcode\" VARCHAR(150) NOT NULL,\n",
    "    \"ProductDescription\" VARCHAR(150) NOT NULL,\n",
    "    \"Price\" REAL NOT NULL,\n",
    "    \"Quantity\" INTEGER NOT NULL,\n",
    "    \"Weight_kg\" REAL,\n",
    "    \"Volume_litre\" REAL,\n",
    "    \"Length\" REAL,\n",
    "    \"Width\" REAL,\n",
    "    \"Height\" REAL,\n",
    "    \"PathID\" INTEGER,\n",
    "    \"ItemID\" INTEGER,\n",
    "    \"ColourID\" INTEGER,\n",
    "    \"BrandID\" INTEGER,\n",
    "    \"LocationID\" INTEGER,\n",
    "    PRIMARY KEY(\"RegistryID\" AUTOINCREMENT),\n",
    "    FOREIGN KEY(\"PathID\") REFERENCES \"Navigation_3NF\" (\"PathID\"),\n",
    "    FOREIGN KEY(\"ItemID\") REFERENCES \"PackageContents_3NF\" (\"ItemID\"),\n",
    "    FOREIGN KEY(\"ColourID\") REFERENCES \"Colours_3NF\" (\"ColourID\") ,\n",
    "    FOREIGN KEY (\"BrandID\") REFERENCES \"Brands_3NF\" (\"BrandID\"),\n",
    "    FOREIGN KEY (\"LocationID\") REFERENCES \"Locations_3NF\" (\"LocationID\")\n",
    ");\n",
    "\n",
    "\n",
    "CREATE TABLE \"Carts_3NF\" (\n",
    "    \"CartID\" INTEGER NOT NULL,\n",
    "    \"InvoiceDate\" DATETIME NOT NULL,\n",
    "    \"Total\" REAL NOT NULL,\n",
    "    PRIMARY KEY (\"CartID\")\n",
    ");\n",
    "\n",
    "\n",
    "CREATE TABLE \"Users_3NF\"(\n",
    "    \"UserID\" INTEGER NOT NULL,\n",
    "    UserName VARCHAR(50) NOT NULL,\n",
    "    PRIMARY KEY(\"UserID\" AUTOINCREMENT)\n",
    ");\n"
   ]
  },
  {
   "cell_type": "markdown",
   "metadata": {},
   "source": [
    "### <font color='turquoise'>Action: proceed with the construction of the remaining tables mentioned </font>"
   ]
  },
  {
   "cell_type": "code",
   "execution_count": null,
   "metadata": {},
   "outputs": [],
   "source": [
    "CREATE TABLE \"Transactions_3NF\" (\n",
    "...\n",
    "    \n",
    "CREATE TABLE \"Navigation_3NF\"(\n",
    "...\n",
    "\n",
    "CREATE TABLE \"PackageContents_3NF\"(\n",
    "...\n",
    "\n",
    "CREATE TABLE \"Colours_3NF\"(\n",
    "...\n",
    "\n",
    "CREATE TABLE \"Brands_3NF\"(\n",
    "...\n",
    "    \n",
    "CREATE TABLE \"Locations_3NF\"(\n",
    "...\n"
   ]
  },
  {
   "cell_type": "code",
   "execution_count": null,
   "metadata": {},
   "outputs": [
    {
     "name": "stdout",
     "output_type": "stream",
     "text": [
      "Query started at 01:33:57 AM SAST; Query executed in 0.00 m"
     ]
    },
    {
     "data": {
      "text/plain": [
       "<sql_magic.exceptions.EmptyResult at 0x7fc1b0b94f70>"
      ]
     },
     "execution_count": 19,
     "metadata": {},
     "output_type": "execute_result"
    }
   ],
   "source": [
    "%%read_sql\n",
    "\n",
    "--# Populate the tables to that they conform to the 3rd Normal Form\n",
    "DELETE FROM \"Products_3NF\";\n",
    "DELETE FROM \"Transactions_3NF\";\n",
    "DELETE FROM \"Carts_3NF\";\n",
    "DELETE FROM \"Users_3NF\";\n",
    "DELETE FROM \"Navigation_3NF\";\n",
    "DELETE FROM \"PackageContents_3NF\";\n",
    "DELETE FROM \"Colours_3NF\";\n",
    "DELETE FROM \"Brands_3NF\";\n",
    "DELETE FROM \"Locations_3NF\";\n",
    "\n",
    "INSERT INTO \"Users_3NF\" (\"UserName\")\n",
    "SELECT DISTINCT UserName FROM Transactions_2NF;\n"
   ]
  },
  {
   "cell_type": "markdown",
   "metadata": {},
   "source": [
    "### <font color='turquoise'>Action: proceed with the insertion into `Carts_3NF`.   </font>\n",
    "\n",
    "Take note that there are duplicate values coming from `Transactions_2NF` - retain the `distinct` combinations of `CartID`,`InvoiceDate`,`Total` only."
   ]
  },
  {
   "cell_type": "code",
   "execution_count": null,
   "metadata": {},
   "outputs": [
    {
     "name": "stdout",
     "output_type": "stream",
     "text": [
      "Query started at 01:33:58 AM SAST; Query executed in 0.00 m"
     ]
    },
    {
     "data": {
      "text/plain": [
       "<sql_magic.exceptions.EmptyResult at 0x7fc1b04df0a0>"
      ]
     },
     "execution_count": 21,
     "metadata": {},
     "output_type": "execute_result"
    }
   ],
   "source": [
    "%%read_sql\n",
    "\n",
    "INSERT INTO \"Carts_3NF\"(\"CartID\",\"InvoiceDate\",\"Total\")\n",
    "...\n"
   ]
  },
  {
   "cell_type": "markdown",
   "metadata": {},
   "source": [
    "### <font color='turquoise'>Action: proceed with the insertion into the tables below. </font>\n",
    "\n",
    "Similarly to the table above, mind the occurances of duplicate entries. These can be avoided by using `SELECT distinct` to avoid inserting redundant rows. \n"
   ]
  },
  {
   "cell_type": "code",
   "execution_count": null,
   "metadata": {},
   "outputs": [],
   "source": [
    "%%read_sql\n",
    "\n",
    "INSERT INTO \"Locations_3NF\" (\"StockCountry\")\n",
    "...\n",
    "\n",
    "INSERT INTO \"Brands_3NF\" (\"Brand\")\n",
    "...\n",
    "\n",
    "INSERT INTO \"Colours_3NF\" (\"Colour\")\n",
    "...\n",
    "\n",
    "INSERT INTO \"PackageContents_3NF\" (\"ItemDescription\",\"PackType\",\"Warranty\")\n",
    "...\n",
    "\n",
    "INSERT INTO \"Navigation_3NF\" (\"NavigationPath\")\n",
    "...\n",
    "\n"
   ]
  },
  {
   "cell_type": "markdown",
   "metadata": {},
   "source": [
    "### <font color='turquoise'>Action: proceed with the insertion into `Products_3NF`. </font>\n",
    "Take note of the joins required for additional data contained in other tables. "
   ]
  },
  {
   "cell_type": "code",
   "execution_count": null,
   "metadata": {
    "scrolled": true
   },
   "outputs": [
    {
     "name": "stdout",
     "output_type": "stream",
     "text": [
      "Query started at 01:33:58 AM SAST; Query executed in 0.00 m"
     ]
    },
    {
     "data": {
      "text/plain": [
       "<sql_magic.exceptions.EmptyResult at 0x7fc1b0b93b50>"
      ]
     },
     "execution_count": 20,
     "metadata": {},
     "output_type": "execute_result"
    }
   ],
   "source": [
    "%%read_sql\n",
    "\n",
    "INSERT INTO \"Products_3NF\" (\"PathID\",\"ItemID\",\"ColourID\",\"BrandID\",\"LocationID\",\n",
    "                            \"Barcode\",\"ProductDescription\",\"Price\",\n",
    "                            \"Quantity\",\"Weight_kg\",\"Volume_litre\",\n",
    "                            \"Length\",\"Width\",\"Height\")\n",
    "SELECT\n",
    "    PathID,\n",
    "    ...\n"
   ]
  },
  {
   "cell_type": "markdown",
   "metadata": {},
   "source": [
    "### <font color='turquoise'>Action: proceed with the insertion into `Transactions_3NF`.   </font>\n",
    "\n",
    "Follow previous proceedure, and checks. "
   ]
  },
  {
   "cell_type": "code",
   "execution_count": null,
   "metadata": {},
   "outputs": [],
   "source": [
    "%%read_sql\n",
    "\n",
    "INSERT INTO \"Transactions_3NF\"(\"CartID||Barcode||UserName\",\"CartID\",\"Barcode\",\"UserID\")\n",
    "... \n"
   ]
  },
  {
   "cell_type": "markdown",
   "metadata": {},
   "source": [
    "### <font color='turquoise'>Action: Investigate the DB.   </font>\n",
    "\n",
    "Note - the tables counts below are what you should arrive at. If you don't, reconsider how you have done the inserts above. Having the tables correctly formatted will allow to answer the questions more easily, and without errors.\n",
    "\n",
    "| Table Name | Count |\n",
    "| --- | --- |\n",
    "| Brands_3NF | 232 |\n",
    "| Carts_3NF |  190 |\n",
    "| Colours_3NF | 17 |\n",
    "| Locations_3NF | 2 |\n",
    "| Navigation_3NF | 396 |\n",
    "| PackageContents_3NF | 600 |\n",
    "| Products_3NF | 1214 |\n",
    "| Transactions_3NF | 275 |\n",
    "| Users_3NF | 158 |"
   ]
  },
  {
   "cell_type": "code",
   "execution_count": null,
   "metadata": {},
   "outputs": [
    {
     "name": "stdout",
     "output_type": "stream",
     "text": [
      "Query started at 02:18:50 AM SAST; Query executed in 0.00 m"
     ]
    },
    {
     "data": {
      "text/html": [
       "<div>\n",
       "<style scoped>\n",
       "    .dataframe tbody tr th:only-of-type {\n",
       "        vertical-align: middle;\n",
       "    }\n",
       "\n",
       "    .dataframe tbody tr th {\n",
       "        vertical-align: top;\n",
       "    }\n",
       "\n",
       "    .dataframe thead th {\n",
       "        text-align: right;\n",
       "    }\n",
       "</style>\n",
       "<table border=\"1\" class=\"dataframe\">\n",
       "  <thead>\n",
       "    <tr style=\"text-align: right;\">\n",
       "      <th></th>\n",
       "      <th>table_name</th>\n",
       "      <th>count(*)</th>\n",
       "    </tr>\n",
       "  </thead>\n",
       "  <tbody>\n",
       "    <tr>\n",
       "      <th>0</th>\n",
       "      <td>3. Brands_3NF</td>\n",
       "      <td>232</td>\n",
       "    </tr>\n",
       "    <tr>\n",
       "      <th>1</th>\n",
       "      <td>3. Carts_3NF</td>\n",
       "      <td>190</td>\n",
       "    </tr>\n",
       "    <tr>\n",
       "      <th>2</th>\n",
       "      <td>3. Colours_3NF</td>\n",
       "      <td>17</td>\n",
       "    </tr>\n",
       "    <tr>\n",
       "      <th>3</th>\n",
       "      <td>3. Locations_3NF</td>\n",
       "      <td>2</td>\n",
       "    </tr>\n",
       "    <tr>\n",
       "      <th>4</th>\n",
       "      <td>3. Navigation_3NF</td>\n",
       "      <td>396</td>\n",
       "    </tr>\n",
       "    <tr>\n",
       "      <th>5</th>\n",
       "      <td>3. PackageContents_3NF</td>\n",
       "      <td>600</td>\n",
       "    </tr>\n",
       "    <tr>\n",
       "      <th>6</th>\n",
       "      <td>3. Products_3NF</td>\n",
       "      <td>1214</td>\n",
       "    </tr>\n",
       "    <tr>\n",
       "      <th>7</th>\n",
       "      <td>3. Transactions_3NF</td>\n",
       "      <td>275</td>\n",
       "    </tr>\n",
       "    <tr>\n",
       "      <th>8</th>\n",
       "      <td>3. Users_3NF</td>\n",
       "      <td>158</td>\n",
       "    </tr>\n",
       "  </tbody>\n",
       "</table>\n",
       "</div>"
      ],
      "text/plain": [
       "               table_name  count(*)\n",
       "0           3. Brands_3NF       232\n",
       "1            3. Carts_3NF       190\n",
       "2          3. Colours_3NF        17\n",
       "3        3. Locations_3NF         2\n",
       "4       3. Navigation_3NF       396\n",
       "5  3. PackageContents_3NF       600\n",
       "6         3. Products_3NF      1214\n",
       "7     3. Transactions_3NF       275\n",
       "8            3. Users_3NF       158"
      ]
     },
     "execution_count": 64,
     "metadata": {},
     "output_type": "execute_result"
    }
   ],
   "source": [
    "%%read_sql \n",
    "\n",
    "-- How many entries are here in each of the tables in the database now? \n",
    "select 'Products_3NF' as table_name, count(*) from Products_3NF\n",
    "UNION\n",
    "select 'Transactions_3NF' as table_name, count(*) from Transactions_3NF\n",
    "UNION\n",
    "select 'Users_3NF' as table_name, count(*) from Users_3NF\n",
    "UNION\n",
    "select 'Navigation_3NF' as table_name, count(*) from Navigation_3NF\n",
    "UNION\n",
    "select 'PackageContents_3NF' as table_name, count(*) from PackageContents_3NF\n",
    "UNION\n",
    "select 'Colours_3NF' as table_name, count(*) from Colours_3NF\n",
    "UNION\n",
    "select 'Brands_3NF' as table_name, count(*) from Brands_3NF\n",
    "UNION\n",
    "select 'Locations_3NF' as table_name, count(*) from Locations_3NF\n",
    "UNION\n",
    "select 'Carts_3NF' as table_name, count(*) from Carts_3NF\n"
   ]
  },
  {
   "cell_type": "markdown",
   "metadata": {
    "id": "zMvJZFQsGE03"
   },
   "source": [
    "<a id='MCQ_questions'></a>\n",
    "## 9. MCQ Questions\n",
    "\n",
    "Having completed the normalisation of the database, you may use the following cells to help you answer the MCQs for the predict. "
   ]
  },
  {
   "cell_type": "markdown",
   "metadata": {
    "id": "hEVNjuirGE03"
   },
   "source": [
    "Q1) How many unique products does the company have?"
   ]
  },
  {
   "cell_type": "code",
   "execution_count": null,
   "metadata": {},
   "outputs": [],
   "source": [
    "%%read_sql\n",
    "-- Write your query here:\n"
   ]
  },
  {
   "cell_type": "markdown",
   "metadata": {
    "id": "WsQZQ8tuGE03"
   },
   "source": [
    "Q2) How many users bought from Bhejane in April 2020?"
   ]
  },
  {
   "cell_type": "code",
   "execution_count": null,
   "metadata": {
    "id": "hFz7XUw_GE04"
   },
   "outputs": [],
   "source": [
    "%%read_sql\n",
    "-- Write your query here:\n"
   ]
  },
  {
   "cell_type": "markdown",
   "metadata": {
    "id": "iBRifthWGE04"
   },
   "source": [
    "Q3) How many users bought 3 or more items that cost more than R1000?"
   ]
  },
  {
   "cell_type": "code",
   "execution_count": null,
   "metadata": {
    "id": "NURR7Ue9GE04"
   },
   "outputs": [],
   "source": [
    "%%read_sql\n",
    "-- Write your query here:\n"
   ]
  },
  {
   "cell_type": "markdown",
   "metadata": {
    "id": "9_-usJoSGE04"
   },
   "source": [
    "Q4) Which user made the largest purchase on a single transaction?"
   ]
  },
  {
   "cell_type": "code",
   "execution_count": null,
   "metadata": {
    "id": "3i7wS1jJGE04"
   },
   "outputs": [],
   "source": [
    "%%read_sql\n",
    "-- Write your query here:\n"
   ]
  },
  {
   "cell_type": "markdown",
   "metadata": {
    "id": "Ik1EeR1dGE04"
   },
   "source": [
    "Q5) How many components does the product: \"5m Colour Changing RGB LED Strip Light\" (MPTAL57588104) come with?"
   ]
  },
  {
   "cell_type": "code",
   "execution_count": null,
   "metadata": {
    "id": "BhTlfGsyGE04"
   },
   "outputs": [],
   "source": [
    "%%read_sql\n",
    "-- Write your query here:\n"
   ]
  },
  {
   "cell_type": "markdown",
   "metadata": {
    "id": "CLNf-BoGGE04"
   },
   "source": [
    "Q6) How many brands are available at Bhejane?"
   ]
  },
  {
   "cell_type": "code",
   "execution_count": null,
   "metadata": {
    "id": "afrVCqnYGE04"
   },
   "outputs": [],
   "source": [
    "%%read_sql\n",
    "-- Write your query here:\n"
   ]
  },
  {
   "cell_type": "markdown",
   "metadata": {},
   "source": [
    "7) What is the price of the \"Verimark - Floorwiz 2in1 Mop\"?"
   ]
  },
  {
   "cell_type": "code",
   "execution_count": null,
   "metadata": {
    "id": "2bQwTSaAGE05",
    "scrolled": true
   },
   "outputs": [],
   "source": [
    "%%read_sql\n",
    "-- Write your query here:\n"
   ]
  },
  {
   "cell_type": "markdown",
   "metadata": {
    "id": "BGaE5N7nGE04"
   },
   "source": [
    "Q8) Calculate the package volume of the \"Russell Hobbs - Slow Cooker\" using the given dimensions"
   ]
  },
  {
   "cell_type": "code",
   "execution_count": null,
   "metadata": {
    "id": "4pOPg-jAGE04"
   },
   "outputs": [],
   "source": [
    "%%read_sql\n",
    "-- Write your query here:\n"
   ]
  },
  {
   "cell_type": "markdown",
   "metadata": {
    "id": "ZDogodiAGE04"
   },
   "source": [
    "Q9) Which user made the most transactions in the Year 2020?"
   ]
  },
  {
   "cell_type": "code",
   "execution_count": null,
   "metadata": {
    "id": "PVUj_9THGE04"
   },
   "outputs": [],
   "source": [
    "%%read_sql\n",
    "-- Write your query here:\n"
   ]
  },
  {
   "cell_type": "markdown",
   "metadata": {
    "id": "A_5dz4coGE04"
   },
   "source": [
    "Q10) What is the total number of users that shop at Bhejane?"
   ]
  },
  {
   "cell_type": "code",
   "execution_count": null,
   "metadata": {
    "id": "gVDNbI7pGE04"
   },
   "outputs": [],
   "source": [
    "%%read_sql\n",
    "-- Write your query here:\n"
   ]
  },
  {
   "cell_type": "markdown",
   "metadata": {
    "id": "8AS0LCOaGE04"
   },
   "source": [
    "Q11) What is the record count for the Colours_3NF Table?"
   ]
  },
  {
   "cell_type": "code",
   "execution_count": null,
   "metadata": {
    "id": "9UdfWoubGE04"
   },
   "outputs": [],
   "source": [
    "%%read_sql\n",
    "-- Write your query here:\n"
   ]
  },
  {
   "cell_type": "markdown",
   "metadata": {
    "id": "TINkZg-7GE05"
   },
   "source": [
    "Q12) What would the total price be if I had the following items in my cart?\n",
    "* MPTAL57588104\n",
    "* 5000394203921\n",
    "* 6932391917652"
   ]
  },
  {
   "cell_type": "code",
   "execution_count": null,
   "metadata": {
    "id": "82Bmwr7bGE05"
   },
   "outputs": [],
   "source": [
    "%%read_sql\n",
    "-- Write your query here:\n"
   ]
  },
  {
   "cell_type": "markdown",
   "metadata": {
    "id": "DGhN2UuaGE04"
   },
   "source": [
    "Q13) What is the barcode of the most sold product?"
   ]
  },
  {
   "cell_type": "code",
   "execution_count": null,
   "metadata": {
    "id": "t5w4A2l1GE04"
   },
   "outputs": [],
   "source": [
    "%%read_sql\n",
    "-- Write your query here:\n"
   ]
  },
  {
   "cell_type": "markdown",
   "metadata": {},
   "source": [
    "Q14) What are the products of Cornelis’ cart on the 2020-06-28 0:00:00?"
   ]
  },
  {
   "cell_type": "code",
   "execution_count": null,
   "metadata": {
    "id": "8xipCT9JGE04"
   },
   "outputs": [],
   "source": [
    "%%read_sql\n",
    "-- Write your query here:\n"
   ]
  },
  {
   "cell_type": "markdown",
   "metadata": {},
   "source": [
    "Q15) Which users bought locally produced, black-coloured products on odd-numbered months of the year, and what was the total cost (rounded to the nearest integer) of the carts containing these products?"
   ]
  },
  {
   "cell_type": "code",
   "execution_count": null,
   "metadata": {},
   "outputs": [],
   "source": [
    "%%read_sql\n",
    "-- Write your query here:\n"
   ]
  },
  {
   "cell_type": "code",
   "execution_count": null,
   "metadata": {},
   "outputs": [],
   "source": []
  }
 ],
 "metadata": {
  "colab": {
   "collapsed_sections": [],
   "name": "SQL_Predict_Student_Notebook.ipynb",
   "provenance": []
  },
  "interpreter": {
   "hash": "6b5ebbc2c6bde2831bc6c0426f75aca8137ccfc69d329557556ed73faee126ae"
  },
  "kernelspec": {
   "display_name": "Python 3 (ipykernel)",
   "language": "python",
   "name": "python3"
  },
  "language_info": {
   "codemirror_mode": {
    "name": "ipython",
    "version": 3
   },
   "file_extension": ".py",
   "mimetype": "text/x-python",
   "name": "python",
   "nbconvert_exporter": "python",
   "pygments_lexer": "ipython3",
   "version": "3.9.13"
  }
 },
 "nbformat": 4,
 "nbformat_minor": 4
}
